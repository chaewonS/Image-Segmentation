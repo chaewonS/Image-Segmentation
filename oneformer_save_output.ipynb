{
 "cells": [
  {
   "cell_type": "code",
   "execution_count": 14,
   "id": "94053b68-1356-4389-8724-93fc8effcaff",
   "metadata": {
    "tags": []
   },
   "outputs": [],
   "source": [
    "import warnings\n",
    "warnings.filterwarnings(\"ignore\", message=\"...\")"
   ]
  },
  {
   "cell_type": "code",
   "execution_count": 3,
   "id": "b5084b04-2364-4bd3-b489-7168c045093c",
   "metadata": {
    "tags": []
   },
   "outputs": [
    {
     "name": "stdout",
     "output_type": "stream",
     "text": [
      "/Users/sm\n"
     ]
    }
   ],
   "source": [
    "cd"
   ]
  },
  {
   "cell_type": "code",
   "execution_count": 4,
   "id": "f6656e95-d30f-40a2-91b5-5ddfc2fb62bd",
   "metadata": {
    "tags": []
   },
   "outputs": [
    {
     "name": "stdout",
     "output_type": "stream",
     "text": [
      "/Users/sm/myenv4/OneFormer\n"
     ]
    }
   ],
   "source": [
    "cd myenv4/OneFormer/"
   ]
  },
  {
   "cell_type": "code",
   "execution_count": 15,
   "id": "ffb64056-e1aa-463f-84db-7a4588b21a83",
   "metadata": {
    "tags": []
   },
   "outputs": [],
   "source": [
    "#detectron2 모델 저장\n",
    "#build_detectron2.ipynb 실행\n",
    "import detectron2\n",
    "from detectron2.utils.logger import setup_logger\n",
    "setup_logger()\n",
    "setup_logger(name=\"oneformer\")\n",
    "\n",
    "import numpy as np\n",
    "import cv2\n",
    "import torch\n",
    "import imutils\n",
    "\n",
    "from detectron2.config import get_cfg\n",
    "from detectron2.projects.deeplab import add_deeplab_config\n",
    "from detectron2.data import MetadataCatalog\n",
    "\n",
    "from oneformer import (\n",
    "    add_oneformer_config,\n",
    "    add_common_config,\n",
    "    add_swin_config,\n",
    "    add_dinat_config,\n",
    "    add_convnext_config,\n",
    ")"
   ]
  },
  {
   "cell_type": "code",
   "execution_count": 17,
   "id": "0282e0a2-096e-4692-a82b-b3e28c95e8a3",
   "metadata": {
    "tags": []
   },
   "outputs": [],
   "source": [
    "SWIN_CFG_DICT = {\"cityscapes\": \"configs/cityscapes/oneformer_swin_large_IN21k_384_bs16_90k.yaml\",\n",
    "            \"coco\": \"configs/coco/oneformer_swin_large_IN21k_384_bs16_100ep.yaml\",\n",
    "            \"ade20k\": \"configs/ade20k/oneformer_swin_large_IN21k_384_bs16_160k.yaml\",}\n",
    "\n",
    "DINAT_CFG_DICT = {\"cityscapes\": \"configs/cityscapes/oneformer_dinat_large_bs16_90k.yaml\",\n",
    "            \"coco\": \"configs/coco/oneformer_dinat_large_bs16_100ep.yaml\",\n",
    "            \"ade20k\": \"configs/ade20k/oneformer_dinat_large_IN21k_384_bs16_160k.yaml\",}\n",
    "\n",
    "def setup_cfg(dataset, model_path, use_swin):\n",
    "    cfg = get_cfg()\n",
    "    add_deeplab_config(cfg)\n",
    "    add_common_config(cfg)\n",
    "    add_swin_config(cfg)\n",
    "    add_dinat_config(cfg)\n",
    "    add_convnext_config(cfg)\n",
    "    add_oneformer_config(cfg)\n",
    "    if use_swin:\n",
    "      cfg_path = SWIN_CFG_DICT[dataset]\n",
    "    else:\n",
    "      cfg_path = DINAT_CFG_DICT[dataset]\n",
    "    cfg.merge_from_file(cfg_path)\n",
    "    cfg.MODEL.DEVICE = 'cpu'\n",
    "    cfg.MODEL.WEIGHTS = model_path\n",
    "    cfg.freeze()\n",
    "    return cfg\n",
    "\n",
    "def setup_modules(dataset, model_path, use_swin):\n",
    "    cfg = setup_cfg(dataset, model_path, use_swin)\n",
    "    predictor = DefaultPredictor(cfg)\n",
    "    metadata = MetadataCatalog.get(\n",
    "        cfg.DATASETS.TEST_PANOPTIC[0] if len(cfg.DATASETS.TEST_PANOPTIC) else \"__unused\"\n",
    "    )\n",
    "    if 'cityscapes_fine_sem_seg_val' in cfg.DATASETS.TEST_PANOPTIC[0]:\n",
    "        from cityscapesscripts.helpers.labels import labels\n",
    "        stuff_colors = [k.color for k in labels if k.trainId != 255]\n",
    "        metadata = metadata.set(stuff_colors=stuff_colors)\n",
    "    \n",
    "    return predictor, metadata\n",
    "\n",
    "def panoptic_run(img, predictor, metadata):\n",
    "    visualizer = Visualizer(img[:, :, ::-1], metadata=metadata, instance_mode=ColorMode.IMAGE)\n",
    "    predictions = predictor(img, \"panoptic\")\n",
    "    panoptic_seg, segments_info = predictions[\"panoptic_seg\"]\n",
    "    out = visualizer.draw_panoptic_seg_predictions(\n",
    "    panoptic_seg.to(cpu_device), segments_info, alpha=0.5\n",
    ")\n",
    "    return out\n",
    "\n",
    "def instance_run(img, predictor, metadata):\n",
    "    visualizer = Visualizer(img[:, :, ::-1], metadata=metadata, instance_mode=ColorMode.IMAGE)\n",
    "    predictions = predictor(img, \"instance\")\n",
    "    instances = predictions[\"instances\"].to(cpu_device)\n",
    "    out = visualizer.draw_instance_predictions(predictions=instances, alpha=0.5)\n",
    "    return out\n",
    "\n",
    "def semantic_run(img, predictor, metadata):\n",
    "    visualizer = Visualizer(img[:, :, ::-1], metadata=metadata, instance_mode=ColorMode.IMAGE)\n",
    "    predictions = predictor(img, \"semantic\")\n",
    "    out = visualizer.draw_sem_seg(\n",
    "        predictions[\"sem_seg\"].argmax(dim=0).to(cpu_device), alpha=0.5\n",
    "    )\n",
    "    return out\n",
    "\n",
    "TASK_INFER = {\"panoptic\": panoptic_run, \n",
    "              \"instance\": instance_run, \n",
    "              \"semantic\": semantic_run}"
   ]
  },
  {
   "cell_type": "code",
   "execution_count": 18,
   "id": "5fb3bdd1-06d3-49d9-bae0-7ad47e11a42b",
   "metadata": {
    "tags": []
   },
   "outputs": [],
   "source": [
    "from demo.defaults import DefaultPredictor\n",
    "from demo.visualizer import Visualizer, ColorMode"
   ]
  },
  {
   "cell_type": "code",
   "execution_count": 8,
   "id": "0304a06f-9e3f-402d-a5e7-e249f141c99a",
   "metadata": {
    "scrolled": true,
    "tags": []
   },
   "outputs": [
    {
     "name": "stderr",
     "output_type": "stream",
     "text": [
      "Loading config configs/cityscapes/Base-Cityscapes-UnifiedSegmentation.yaml with yaml.unsafe_load. Your machine may be at risk if the file contains malicious content.\n"
     ]
    },
    {
     "name": "stdout",
     "output_type": "stream",
     "text": [
      "\u001b[32m[03/23 15:40:29 d2.checkpoint.detection_checkpoint]: \u001b[0m[DetectionCheckpointer] Loading from 250_16_dinat_l_oneformer_cityscapes_90k.pth ...\n"
     ]
    },
    {
     "name": "stderr",
     "output_type": "stream",
     "text": [
      "The checkpoint state_dict contains keys that are not used by the model:\n",
      "  \u001b[35mtext_encoder.positional_embedding\u001b[0m\n",
      "  \u001b[35mtext_encoder.transformer.resblocks.0.attn.{in_proj_bias, in_proj_weight}\u001b[0m\n",
      "  \u001b[35mtext_encoder.transformer.resblocks.0.attn.out_proj.{bias, weight}\u001b[0m\n",
      "  \u001b[35mtext_encoder.transformer.resblocks.0.ln_1.{bias, weight}\u001b[0m\n",
      "  \u001b[35mtext_encoder.transformer.resblocks.0.mlp.c_fc.{bias, weight}\u001b[0m\n",
      "  \u001b[35mtext_encoder.transformer.resblocks.0.mlp.c_proj.{bias, weight}\u001b[0m\n",
      "  \u001b[35mtext_encoder.transformer.resblocks.0.ln_2.{bias, weight}\u001b[0m\n",
      "  \u001b[35mtext_encoder.transformer.resblocks.1.attn.{in_proj_bias, in_proj_weight}\u001b[0m\n",
      "  \u001b[35mtext_encoder.transformer.resblocks.1.attn.out_proj.{bias, weight}\u001b[0m\n",
      "  \u001b[35mtext_encoder.transformer.resblocks.1.ln_1.{bias, weight}\u001b[0m\n",
      "  \u001b[35mtext_encoder.transformer.resblocks.1.mlp.c_fc.{bias, weight}\u001b[0m\n",
      "  \u001b[35mtext_encoder.transformer.resblocks.1.mlp.c_proj.{bias, weight}\u001b[0m\n",
      "  \u001b[35mtext_encoder.transformer.resblocks.1.ln_2.{bias, weight}\u001b[0m\n",
      "  \u001b[35mtext_encoder.transformer.resblocks.2.attn.{in_proj_bias, in_proj_weight}\u001b[0m\n",
      "  \u001b[35mtext_encoder.transformer.resblocks.2.attn.out_proj.{bias, weight}\u001b[0m\n",
      "  \u001b[35mtext_encoder.transformer.resblocks.2.ln_1.{bias, weight}\u001b[0m\n",
      "  \u001b[35mtext_encoder.transformer.resblocks.2.mlp.c_fc.{bias, weight}\u001b[0m\n",
      "  \u001b[35mtext_encoder.transformer.resblocks.2.mlp.c_proj.{bias, weight}\u001b[0m\n",
      "  \u001b[35mtext_encoder.transformer.resblocks.2.ln_2.{bias, weight}\u001b[0m\n",
      "  \u001b[35mtext_encoder.transformer.resblocks.3.attn.{in_proj_bias, in_proj_weight}\u001b[0m\n",
      "  \u001b[35mtext_encoder.transformer.resblocks.3.attn.out_proj.{bias, weight}\u001b[0m\n",
      "  \u001b[35mtext_encoder.transformer.resblocks.3.ln_1.{bias, weight}\u001b[0m\n",
      "  \u001b[35mtext_encoder.transformer.resblocks.3.mlp.c_fc.{bias, weight}\u001b[0m\n",
      "  \u001b[35mtext_encoder.transformer.resblocks.3.mlp.c_proj.{bias, weight}\u001b[0m\n",
      "  \u001b[35mtext_encoder.transformer.resblocks.3.ln_2.{bias, weight}\u001b[0m\n",
      "  \u001b[35mtext_encoder.transformer.resblocks.4.attn.{in_proj_bias, in_proj_weight}\u001b[0m\n",
      "  \u001b[35mtext_encoder.transformer.resblocks.4.attn.out_proj.{bias, weight}\u001b[0m\n",
      "  \u001b[35mtext_encoder.transformer.resblocks.4.ln_1.{bias, weight}\u001b[0m\n",
      "  \u001b[35mtext_encoder.transformer.resblocks.4.mlp.c_fc.{bias, weight}\u001b[0m\n",
      "  \u001b[35mtext_encoder.transformer.resblocks.4.mlp.c_proj.{bias, weight}\u001b[0m\n",
      "  \u001b[35mtext_encoder.transformer.resblocks.4.ln_2.{bias, weight}\u001b[0m\n",
      "  \u001b[35mtext_encoder.transformer.resblocks.5.attn.{in_proj_bias, in_proj_weight}\u001b[0m\n",
      "  \u001b[35mtext_encoder.transformer.resblocks.5.attn.out_proj.{bias, weight}\u001b[0m\n",
      "  \u001b[35mtext_encoder.transformer.resblocks.5.ln_1.{bias, weight}\u001b[0m\n",
      "  \u001b[35mtext_encoder.transformer.resblocks.5.mlp.c_fc.{bias, weight}\u001b[0m\n",
      "  \u001b[35mtext_encoder.transformer.resblocks.5.mlp.c_proj.{bias, weight}\u001b[0m\n",
      "  \u001b[35mtext_encoder.transformer.resblocks.5.ln_2.{bias, weight}\u001b[0m\n",
      "  \u001b[35mtext_encoder.ln_final.{bias, weight}\u001b[0m\n",
      "  \u001b[35mtext_encoder.token_embedding.weight\u001b[0m\n",
      "  \u001b[35mtext_projector.layers.0.{bias, weight}\u001b[0m\n",
      "  \u001b[35mtext_projector.layers.1.{bias, weight}\u001b[0m\n",
      "  \u001b[35mprompt_ctx.weight\u001b[0m\n"
     ]
    }
   ],
   "source": [
    "use_swin = False\n",
    "import os\n",
    "import subprocess\n",
    "if not use_swin:\n",
    "  if not os.path.exists(\"250_16_dinat_l_oneformer_cityscapes_90k.pth\"):\n",
    "    subprocess.run('wget https://shi-labs.com/projects/oneformer/cityscapes/250_16_dinat_l_oneformer_cityscapes_90k.pth', shell=True)\n",
    "  predictor, metadata = setup_modules(\"cityscapes\", \"250_16_dinat_l_oneformer_cityscapes_90k.pth\", use_swin)\n",
    "else:\n",
    "  if not os.path.exists(\"250_16_swin_l_oneformer_cityscapes_90k.pth\"):\n",
    "    subprocess.run('wget https://shi-labs.com/projects/oneformer/cityscapes/250_16_swin_l_oneformer_cityscapes_90k.pth', shell=True)\n",
    "  predictor, metadata = setup_modules(\"cityscapes\", \"250_16_swin_l_oneformer_cityscapes_90k.pth\", use_swin)"
   ]
  },
  {
   "cell_type": "markdown",
   "id": "48d21063-8b8d-49a5-b483-0171d5af9940",
   "metadata": {},
   "source": [
    "## Save Output Image\n",
    "#### Input = \"samples/aachen/\"\n",
    "#### Output = \"./output_img/\""
   ]
  },
  {
   "cell_type": "code",
   "execution_count": 9,
   "id": "d564bdbb-c9ef-4b5d-a13b-79ea3a6889c2",
   "metadata": {
    "tags": []
   },
   "outputs": [
    {
     "name": "stdout",
     "output_type": "stream",
     "text": [
      "Output image saved at ./output_img/aachen_1_output.jpg\n",
      "Output image saved at ./output_img/aachen_0_output.jpg\n",
      "Output image saved at ./output_img/aachen_2_output.jpg\n",
      "Output image saved at ./output_img/aachen_3_output.jpg\n"
     ]
    }
   ],
   "source": [
    "#Panoptic segmentation된 이미지 파일 저장\n",
    "from matplotlib import pyplot as plt\n",
    "import os\n",
    "\n",
    "input_path = \"samples/aachen/\"\n",
    "output_path = \"./output_img/\"\n",
    "os.makedirs(output_path, exist_ok=True)\n",
    "\n",
    "for filename in os.listdir(input_path):\n",
    "    if filename.endswith(\".jpg\") or filename.endswith(\".jpeg\") or filename.endswith(\".png\"):\n",
    "        input_filepath = os.path.join(input_path, filename)\n",
    "        img = cv2.imread(input_filepath)\n",
    "        img = imutils.resize(img, width=512)\n",
    "\n",
    "        output_filename = f\"{filename.split('.')[0]}_output.jpg\"\n",
    "        output_filepath = os.path.join(output_path, output_filename)\n",
    "\n",
    "        task = \"panoptic\"\n",
    "        cpu_device = torch.device('cpu')\n",
    "        out = TASK_INFER[task](img, predictor, metadata).get_image()\n",
    "        cv2.imwrite(output_filepath, out[:, :, ::-1])\n",
    "        print(f\"Output image saved at {output_filepath}\")"
   ]
  },
  {
   "cell_type": "markdown",
   "id": "796ba785-4af2-42e7-b28c-ce9daddb89dd",
   "metadata": {},
   "source": [
    "## Save Output Json File\n",
    "#### Input = \"samples/aachen/\"\n",
    "#### Output = \"./output_json/\""
   ]
  },
  {
   "cell_type": "code",
   "execution_count": 10,
   "id": "02b3c1fb-13c5-4240-9e69-d81b318a19f3",
   "metadata": {
    "tags": []
   },
   "outputs": [],
   "source": [
    "# prediction 결과를 json으로 변환하는 함수 정의\n",
    "\n",
    "import json\n",
    "    \n",
    "def convert_output_to_json(output, file_path):\n",
    "    json_output = {}\n",
    "\n",
    "    # Add 'sem_seg' field to json_output\n",
    "    json_output['sem_seg'] = output['sem_seg'].tolist()\n",
    "\n",
    "    # Add 'panoptic_seg' field to json_output\n",
    "    panoptic_seg = output['panoptic_seg']\n",
    "    panoptic_seg_dict = {}\n",
    "    panoptic_seg_dict['image_mask'] = panoptic_seg[0].tolist()\n",
    "    categories = []\n",
    "    for category in panoptic_seg[1]:\n",
    "        category_dict = {}\n",
    "        category_dict['id'] = category['id']\n",
    "        category_dict['isthing'] = category['isthing']\n",
    "        category_dict['category_id'] = category['category_id']\n",
    "        categories.append(category_dict)\n",
    "    panoptic_seg_dict['categories'] = categories\n",
    "    json_output['panoptic_seg'] = panoptic_seg_dict\n",
    "\n",
    "    # Add 'instances' field to json_output\n",
    "    instances_dict = {}\n",
    "    instances_dict['num_instances'] = len(output['instances'])\n",
    "    instances_dict['image_height'] = output['instances'].image_size[0]\n",
    "    instances_dict['image_width'] = output['instances'].image_size[1]\n",
    "    \n",
    "    fields = predictions['instances'].get_fields()\n",
    "    instances_dict['pred_masks'] = fields['pred_masks'].tolist()\n",
    "    instances_dict['pred_boxes'] = fields['pred_boxes'].tensor.tolist()\n",
    "    instances_dict['scores'] = fields['scores'].tolist()\n",
    "    instances_dict['pred_classes'] = fields['pred_classes'].tolist()\n",
    "\n",
    "    json_output['instances'] = instances_dict\n",
    "    \n",
    "    with open(file_path, \"w\") as f:\n",
    "        json.dump(json_output,f)"
   ]
  },
  {
   "cell_type": "code",
   "execution_count": 12,
   "id": "9b9c2290-c832-4a20-b036-fffba99d861a",
   "metadata": {
    "tags": []
   },
   "outputs": [
    {
     "name": "stdout",
     "output_type": "stream",
     "text": [
      "Output json saved at ./output_json/aachen_1_output.json\n",
      "Output json saved at ./output_json/aachen_0_output.json\n",
      "Output json saved at ./output_json/aachen_2_output.json\n",
      "Output json saved at ./output_json/aachen_3_output.json\n"
     ]
    }
   ],
   "source": [
    "#Panoptic segmentation된 결과물을 json 파일로 저장\n",
    "from matplotlib import pyplot as plt\n",
    "import os\n",
    "\n",
    "input_path = \"samples/aachen\"\n",
    "output_path = \"./output_json/\"\n",
    "os.makedirs(output_path, exist_ok=True)\n",
    "\n",
    "img_files = os.listdir(input_path)\n",
    "img_files.sort()\n",
    "\n",
    "for filename in os.listdir(input_path):\n",
    "    if filename.endswith(\".jpg\") or filename.endswith(\".jpeg\") or filename.endswith(\".png\"):\n",
    "        input_filepath = os.path.join(input_path, filename)\n",
    "        img = cv2.imread(input_filepath)\n",
    "        img = imutils.resize(img, width=512)\n",
    "\n",
    "        output_filename = f\"{filename.split('.')[0]}_output.json\"\n",
    "        output_filepath = os.path.join(output_path, output_filename)\n",
    "        \n",
    "        task = \"panoptic\"\n",
    "        cpu_device = torch.device('cpu')\n",
    "        # out = TASK_INFER[task](img, predictor, metadata).get_image()\n",
    "        predictions = predictor(img, task)\n",
    "        \n",
    "        convert_output_to_json(predictions, output_filepath)\n",
    "        print(f\"Output json saved at {output_filepath}\")"
   ]
  }
 ],
 "metadata": {
  "kernelspec": {
   "display_name": "env4",
   "language": "python",
   "name": "env4"
  },
  "language_info": {
   "codemirror_mode": {
    "name": "ipython",
    "version": 3
   },
   "file_extension": ".py",
   "mimetype": "text/x-python",
   "name": "python",
   "nbconvert_exporter": "python",
   "pygments_lexer": "ipython3",
   "version": "3.10.9"
  }
 },
 "nbformat": 4,
 "nbformat_minor": 5
}
