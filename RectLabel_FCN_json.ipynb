{
 "cells": [
  {
   "cell_type": "code",
   "execution_count": 1,
   "id": "6094c819-6401-42e7-88a6-666926d418ae",
   "metadata": {
    "tags": []
   },
   "outputs": [
    {
     "name": "stdout",
     "output_type": "stream",
     "text": [
      "/Users/sm\n"
     ]
    }
   ],
   "source": [
    "cd"
   ]
  },
  {
   "cell_type": "code",
   "execution_count": 2,
   "id": "00b81cca-8d95-484b-9305-b069bc6952f0",
   "metadata": {
    "tags": []
   },
   "outputs": [
    {
     "name": "stdout",
     "output_type": "stream",
     "text": [
      "/Users/sm/myenv4/OneFormer\n"
     ]
    }
   ],
   "source": [
    "cd myenv4/OneFormer/"
   ]
  },
  {
   "cell_type": "markdown",
   "id": "102b3ad0-dd26-4aa8-91a9-107eb34b5431",
   "metadata": {},
   "source": [
    "### RectLabel Labelme json format -> PanopticFCN json"
   ]
  },
  {
   "cell_type": "code",
   "execution_count": 3,
   "id": "6ed9e0b6-a6e7-4a46-917d-47aa907245a6",
   "metadata": {
    "tags": []
   },
   "outputs": [],
   "source": [
    "import json\n",
    "import numpy as np\n",
    "import os\n",
    "\n",
    "input_path = \"output_json/Labelme_json/\"\n",
    "output_path = \"output_json/FCN_json/\"\n",
    "os.makedirs(output_path, exist_ok=True)\n",
    "\n",
    "img_files = os.listdir(input_path)\n",
    "img_files.sort()\n",
    "\n",
    "for filename in os.listdir(input_path):\n",
    "    if filename.endswith(\".json\"):\n",
    "        input_filepath = os.path.join(input_path, filename)\n",
    "        with open(input_filepath, \"r\") as f:\n",
    "            data = json.load(f)\n",
    "            \n",
    "            # 1 field\n",
    "            objects = []\n",
    "            num_instances = len(data['shapes'])\n",
    "   \n",
    "            for i in range(num_instances):\n",
    "                # Create objects\n",
    "                object_field = {\n",
    "                    'label' : data['shapes'][i]['label'],\n",
    "                    'polygon' : data['shapes'][i]['points']\n",
    "                }\n",
    "                objects.append(object_field)\n",
    "                \n",
    "            # Create FCN JSON dictionary\n",
    "            fcn_dict = {}\n",
    "            fcn_dict['imgHeight'] = data['imageHeight']\n",
    "            fcn_dict['imgWidth'] = data['imageWidth']\n",
    "            fcn_dict['objects'] = objects\n",
    "            \n",
    "            name, ext = filename.split('leftImg8bit')\n",
    "            output_filename = name + \"gtFine_polygons\" + ext\n",
    "            output_filepath = os.path.join(output_path, output_filename)\n",
    "            \n",
    "            with open(output_filepath, \"w\", encoding=\"utf-8\") as fo:\n",
    "                json.dump(fcn_dict, fo)\n",
    "            \n",
    "            # print(f\"Output FCN Input JSON saved at {output_filepath}\")        "
   ]
  },
  {
   "cell_type": "markdown",
   "id": "4868d9e5-d0a4-49f0-a2d4-31b39571bedc",
   "metadata": {},
   "source": [
    "### RectLabel COCO json format -> PanopticFCN val json"
   ]
  },
  {
   "cell_type": "code",
   "execution_count": 5,
   "id": "a7df1431-a691-4dc0-9018-f2d1f4f31f88",
   "metadata": {
    "tags": []
   },
   "outputs": [],
   "source": [
    "import collections\n",
    "import json\n",
    "import numpy as np\n",
    "import os\n",
    "\n",
    "input_files = \"output_json/cityscapes_panoptic_val.json\"\n",
    "os.makedirs(output_path, exist_ok=True)\n",
    "\n",
    "with open(input_files, \"r\") as f:\n",
    "    data = json.load(f)\n",
    "    categories = data['categories']"
   ]
  },
  {
   "cell_type": "code",
   "execution_count": 6,
   "id": "7fbe95f7-a5c8-4e5d-b6ef-f418c0323c74",
   "metadata": {
    "tags": []
   },
   "outputs": [
    {
     "name": "stdout",
     "output_type": "stream",
     "text": [
      "Output coco json saved at output_json/FCN_json_val/chae_cityscapes_panoptic_final.json\n"
     ]
    }
   ],
   "source": [
    "import collections\n",
    "import json\n",
    "import numpy as np\n",
    "import os\n",
    "\n",
    "input_files = \"output_json/0424_coco.json\"\n",
    "output_path = \"output_json/FCN_json_val/\"\n",
    "os.makedirs(output_path, exist_ok=True)\n",
    "\n",
    "\n",
    "with open(input_files, \"r\") as f:\n",
    "    data = json.load(f)\n",
    "    # image_id를 기준으로 묶어줌\n",
    "    annotations = data['annotations']\n",
    "    annoimages = data['images']\n",
    "    images_instances = len(data['images'])\n",
    "    annotation_field = {}\n",
    "    image_field = {}\n",
    "    images = []\n",
    "\n",
    "    for ann in annotations:\n",
    "        image_id = ann['image_id']\n",
    "        cateid = ann['category_id']\n",
    "        mapping = {8: 7, 9: 8, 12: 11, 13: 12, 14: 13, 18: 17, 20: 19, 21: 20, 22: 21, 23: 22, 24: 23, 25: 24, 26: 25, 27: 26, 28: 27, 29: 28, 32: 31, 33: 32 }\n",
    "        cateid = mapping.get(cateid, 255)\n",
    "            \n",
    "        if image_id not in annotation_field:\n",
    "            for annimg in annoimages:\n",
    "                if annimg['id'] == ann['image_id']:\n",
    "                    name, ext = annimg['file_name'].split('_leftImg8bit')\n",
    "                    annotation_field[image_id] = {\n",
    "                        'file_name' : annimg['file_name'],\n",
    "                        'image_id' : name,\n",
    "                        'segment_info' : []\n",
    "                    }\n",
    "        seg_info = {\n",
    "            'id': ann['id'],\n",
    "            'category_id' : cateid,\n",
    "            'area': ann['area'],\n",
    "            'bbox': ann['bbox'],\n",
    "            'iscrowd': ann['iscrowd'],\n",
    "        }\n",
    "        annotation_field[image_id]['segment_info'].append(seg_info)\n",
    "\n",
    "    annotations = list(annotation_field.values())\n",
    "    \n",
    "    for j in range(images_instances):\n",
    "        name, ext = data['images'][j]['file_name'].split('_leftImg8bit')\n",
    "        image_field = {\n",
    "            'file_name' : data['images'][j]['file_name'],\n",
    "            'id' : name,\n",
    "            'height' : data['images'][j]['height'],\n",
    "            'width' : data['images'][j]['width']\n",
    "        }\n",
    "        images.append(image_field)\n",
    "    \n",
    "    unlabled = {\n",
    "        'name' : 'unlabeld',\n",
    "        'id' : 255\n",
    "    }\n",
    "    categories.append(unlabled)\n",
    "    \n",
    "    fcn_val_dict = {}\n",
    "    fcn_val_dict['annotations'] = annotations\n",
    "    fcn_val_dict['categories'] = categories\n",
    "    fcn_val_dict['images'] = images\n",
    "    \n",
    "    output_filename = \"chae_cityscapes_panoptic_final.json\"\n",
    "    output_filepath = os.path.join(output_path, output_filename)\n",
    "\n",
    "    with open(output_filepath, \"w\", encoding=\"utf-8\") as f:\n",
    "        json.dump(fcn_val_dict, f)\n",
    "\n",
    "    print(f\"Output coco json saved at {output_filepath}\")"
   ]
  }
 ],
 "metadata": {
  "kernelspec": {
   "display_name": "Python 3 (ipykernel)",
   "language": "python",
   "name": "python3"
  },
  "language_info": {
   "codemirror_mode": {
    "name": "ipython",
    "version": 3
   },
   "file_extension": ".py",
   "mimetype": "text/x-python",
   "name": "python",
   "nbconvert_exporter": "python",
   "pygments_lexer": "ipython3",
   "version": "3.10.9"
  }
 },
 "nbformat": 4,
 "nbformat_minor": 5
}
